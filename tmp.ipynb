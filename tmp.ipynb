{
 "cells": [
  {
   "cell_type": "code",
   "execution_count": null,
   "id": "a939fd9d",
   "metadata": {},
   "outputs": [],
   "source": [
    "import pandas as pd\n",
    "import numpy as np\n",
    "from tsdata_to_infocrit import  tsdata_to_infocrit\n",
    "from tsdata_to_var import tsdata_to_var\n",
    "from var_to_autocov import var_to_autocov\n",
    "from autocov_to_var import autocov_to_var\n",
    "\n",
    "from autocov_to_pwcgc import autocov_to_pwcgc\n",
    "\n",
    "import seaborn as sns\n",
    "\n"
   ]
  },
  {
   "cell_type": "code",
   "execution_count": null,
   "id": "226ca26e",
   "metadata": {},
   "outputs": [],
   "source": []
  },
  {
   "cell_type": "code",
   "execution_count": null,
   "id": "05db185a",
   "metadata": {},
   "outputs": [],
   "source": []
  },
  {
   "cell_type": "code",
   "execution_count": null,
   "id": "23bb3970",
   "metadata": {},
   "outputs": [],
   "source": []
  },
  {
   "cell_type": "code",
   "execution_count": null,
   "id": "cfbdf7a4",
   "metadata": {},
   "outputs": [],
   "source": []
  },
  {
   "cell_type": "code",
   "execution_count": null,
   "id": "79b7e2c3",
   "metadata": {},
   "outputs": [
    {
     "name": "stdout",
     "output_type": "stream",
     "text": [
      "1 7.227107801099919e-12\n",
      "2 9.225953334635051e-12\n",
      "3 7.566614002030292e-12\n",
      "4 8.820721930646869e-12\n",
      "5 6.750921199838444e-08\n",
      "6 0.0006008779549679932\n"
     ]
    }
   ],
   "source": [
    "\n",
    "\n",
    "X = pd.read_csv('X.csv',header=None)\n",
    "X  = np.array(X).T # X must be numpy array in shape of (num var, num rows)\n",
    "# aic, bic, moaic, mobic = tsdata_to_infocrit(X,10, False)\n",
    "\n",
    "\n",
    "\n",
    "for p in range(1,):\n",
    "\n",
    "    A, SIG, E = tsdata_to_var(X, p)\n",
    "    G = var_to_autocov(A,SIG, q = 100)\n",
    "    F = autocov_to_pwcgc(G,SIG)\n",
    "\n",
    "\n",
    "    A, SIG, E = tsdata_to_var_torch(X,p)\n",
    "    G = var_to_autocov_torch(A, SIG, q = 100)\n",
    "    F1 = autocov_to_pwcgc_torch(G,SIG)\n",
    "    # ,(SIG))\n",
    "\n",
    "    \n",
    "\n",
    "\n",
    "\n",
    "\n",
    "\n",
    "\n",
    "    # # # pd.DataFrame(np.squeeze(A))\n",
    "\n",
    "\n",
    "    np.fill_diagonal(F, 0)\n",
    "    F1 = np.array(F1)\n",
    "    np.fill_diagonal(F1, 0)\n",
    "\n",
    "\n",
    "    # np.sum(np.abs(G - G1))\n",
    "    print(p,np.sum(np.abs(F - F1)))\n",
    "\n"
   ]
  },
  {
   "cell_type": "code",
   "execution_count": null,
   "id": "004949b8",
   "metadata": {},
   "outputs": [],
   "source": []
  },
  {
   "cell_type": "code",
   "execution_count": null,
   "id": "fbd5eb26",
   "metadata": {},
   "outputs": [],
   "source": []
  },
  {
   "cell_type": "code",
   "execution_count": null,
   "id": "f09ba5e8",
   "metadata": {},
   "outputs": [],
   "source": []
  },
  {
   "cell_type": "code",
   "execution_count": null,
   "id": "aa8140d0",
   "metadata": {},
   "outputs": [],
   "source": []
  },
  {
   "cell_type": "code",
   "execution_count": null,
   "id": "2be3d28c",
   "metadata": {},
   "outputs": [],
   "source": []
  }
 ],
 "metadata": {
  "kernelspec": {
   "display_name": "Python 3",
   "language": "python",
   "name": "python3"
  },
  "language_info": {
   "codemirror_mode": {
    "name": "ipython",
    "version": 3
   },
   "file_extension": ".py",
   "mimetype": "text/x-python",
   "name": "python",
   "nbconvert_exporter": "python",
   "pygments_lexer": "ipython3",
   "version": "3.9.23"
  }
 },
 "nbformat": 4,
 "nbformat_minor": 5
}
