{
 "cells": [
  {
   "cell_type": "code",
   "execution_count": null,
   "id": "a939fd9d",
   "metadata": {},
   "outputs": [],
   "source": []
  },
  {
   "cell_type": "markdown",
   "id": "c00bbcb6",
   "metadata": {},
   "source": [
    "# Numpy (CPU) Demo"
   ]
  },
  {
   "cell_type": "code",
   "execution_count": 1,
   "id": "51d09dd8",
   "metadata": {},
   "outputs": [],
   "source": [
    "import pandas as pd\n",
    "import numpy as np\n",
    "from tsdata_to_infocrit import  tsdata_to_infocrit\n",
    "from tsdata_to_var import tsdata_to_var\n",
    "from var_to_autocov import var_to_autocov\n",
    "from autocov_to_pwcgc import autocov_to_pwcgc\n",
    "import seaborn as sns"
   ]
  },
  {
   "cell_type": "code",
   "execution_count": 2,
   "id": "79b7e2c3",
   "metadata": {},
   "outputs": [
    {
     "data": {
      "text/html": [
       "<div>\n",
       "<style scoped>\n",
       "    .dataframe tbody tr th:only-of-type {\n",
       "        vertical-align: middle;\n",
       "    }\n",
       "\n",
       "    .dataframe tbody tr th {\n",
       "        vertical-align: top;\n",
       "    }\n",
       "\n",
       "    .dataframe thead th {\n",
       "        text-align: right;\n",
       "    }\n",
       "</style>\n",
       "<table border=\"1\" class=\"dataframe\">\n",
       "  <thead>\n",
       "    <tr style=\"text-align: right;\">\n",
       "      <th></th>\n",
       "      <th>0</th>\n",
       "      <th>1</th>\n",
       "      <th>2</th>\n",
       "      <th>3</th>\n",
       "      <th>4</th>\n",
       "      <th>5</th>\n",
       "      <th>6</th>\n",
       "    </tr>\n",
       "  </thead>\n",
       "  <tbody>\n",
       "    <tr>\n",
       "      <th>0</th>\n",
       "      <td>NaN</td>\n",
       "      <td>0.0063</td>\n",
       "      <td>0.0027</td>\n",
       "      <td>0.0054</td>\n",
       "      <td>0.0138</td>\n",
       "      <td>0.0043</td>\n",
       "      <td>0.0137</td>\n",
       "    </tr>\n",
       "    <tr>\n",
       "      <th>1</th>\n",
       "      <td>0.0051</td>\n",
       "      <td>NaN</td>\n",
       "      <td>0.0040</td>\n",
       "      <td>0.0252</td>\n",
       "      <td>0.0150</td>\n",
       "      <td>0.0216</td>\n",
       "      <td>0.0051</td>\n",
       "    </tr>\n",
       "    <tr>\n",
       "      <th>2</th>\n",
       "      <td>0.0070</td>\n",
       "      <td>0.0056</td>\n",
       "      <td>NaN</td>\n",
       "      <td>0.0065</td>\n",
       "      <td>0.0262</td>\n",
       "      <td>0.0044</td>\n",
       "      <td>0.0105</td>\n",
       "    </tr>\n",
       "    <tr>\n",
       "      <th>3</th>\n",
       "      <td>0.0097</td>\n",
       "      <td>0.0334</td>\n",
       "      <td>0.0055</td>\n",
       "      <td>NaN</td>\n",
       "      <td>0.0034</td>\n",
       "      <td>0.0085</td>\n",
       "      <td>0.0023</td>\n",
       "    </tr>\n",
       "    <tr>\n",
       "      <th>4</th>\n",
       "      <td>0.0088</td>\n",
       "      <td>0.0039</td>\n",
       "      <td>0.0081</td>\n",
       "      <td>0.0072</td>\n",
       "      <td>NaN</td>\n",
       "      <td>0.0016</td>\n",
       "      <td>0.0147</td>\n",
       "    </tr>\n",
       "    <tr>\n",
       "      <th>5</th>\n",
       "      <td>0.0045</td>\n",
       "      <td>0.0084</td>\n",
       "      <td>0.0043</td>\n",
       "      <td>0.0138</td>\n",
       "      <td>0.0204</td>\n",
       "      <td>NaN</td>\n",
       "      <td>0.0045</td>\n",
       "    </tr>\n",
       "    <tr>\n",
       "      <th>6</th>\n",
       "      <td>0.0043</td>\n",
       "      <td>0.0129</td>\n",
       "      <td>0.0024</td>\n",
       "      <td>0.0058</td>\n",
       "      <td>0.0101</td>\n",
       "      <td>0.0069</td>\n",
       "      <td>NaN</td>\n",
       "    </tr>\n",
       "  </tbody>\n",
       "</table>\n",
       "</div>"
      ],
      "text/plain": [
       "        0       1       2       3       4       5       6\n",
       "0     NaN  0.0063  0.0027  0.0054  0.0138  0.0043  0.0137\n",
       "1  0.0051     NaN  0.0040  0.0252  0.0150  0.0216  0.0051\n",
       "2  0.0070  0.0056     NaN  0.0065  0.0262  0.0044  0.0105\n",
       "3  0.0097  0.0334  0.0055     NaN  0.0034  0.0085  0.0023\n",
       "4  0.0088  0.0039  0.0081  0.0072     NaN  0.0016  0.0147\n",
       "5  0.0045  0.0084  0.0043  0.0138  0.0204     NaN  0.0045\n",
       "6  0.0043  0.0129  0.0024  0.0058  0.0101  0.0069     NaN"
      ]
     },
     "execution_count": 2,
     "metadata": {},
     "output_type": "execute_result"
    },
    {
     "data": {
      "image/png": "[encoded data removed]",
      "text/plain": [
       "<Figure size 432x288 with 2 Axes>"
      ]
     },
     "metadata": {
      "needs_background": "light"
     },
     "output_type": "display_data"
    }
   ],
   "source": [
    "\n",
    "X = pd.read_csv('X.csv',header=None)\n",
    "X  = np.array(X).T # X must be numpy array in shape of (num var, num rows)\n",
    "aic, bic, moaic, mobic = tsdata_to_infocrit(X,10, False)\n",
    "\n",
    "# p = moaic\n",
    "p = 3\n",
    "\n",
    "\n",
    "A, SIG, E = tsdata_to_var(X, moaic)\n",
    "G= var_to_autocov(A,SIG, q = 100)\n",
    "F = autocov_to_pwcgc(G,SIG)\n",
    "\n",
    "\n",
    "\n",
    "sns.heatmap(F)\n",
    "pd.DataFrame(np.round(F,4))"
   ]
  },
  {
   "cell_type": "code",
   "execution_count": null,
   "id": "004949b8",
   "metadata": {},
   "outputs": [],
   "source": []
  },
  {
   "cell_type": "code",
   "execution_count": null,
   "id": "fbd5eb26",
   "metadata": {},
   "outputs": [],
   "source": []
  },
  {
   "cell_type": "code",
   "execution_count": null,
   "id": "f09ba5e8",
   "metadata": {},
   "outputs": [],
   "source": []
  },
  {
   "cell_type": "code",
   "execution_count": null,
   "id": "aa8140d0",
   "metadata": {},
   "outputs": [],
   "source": []
  },
  {
   "cell_type": "code",
   "execution_count": null,
   "id": "2be3d28c",
   "metadata": {},
   "outputs": [],
   "source": []
  }
 ],
 "metadata": {
  "kernelspec": {
   "display_name": "Python 3",
   "language": "python",
   "name": "python3"
  },
  "language_info": {
   "codemirror_mode": {
    "name": "ipython",
    "version": 3
   },
   "file_extension": ".py",
   "mimetype": "text/x-python",
   "name": "python",
   "nbconvert_exporter": "python",
   "pygments_lexer": "ipython3",
   "version": "3.9.23"
  }
 },
 "nbformat": 4,
 "nbformat_minor": 5
}
